{
 "cells": [
  {
   "cell_type": "code",
   "execution_count": 46,
   "metadata": {},
   "outputs": [],
   "source": [
    "import requests\n",
    "import json"
   ]
  },
  {
   "cell_type": "code",
   "execution_count": 47,
   "metadata": {},
   "outputs": [],
   "source": [
    "headers = {'Content-Type': 'application/json; charset=utf-8'}\n",
    "\n",
    "url_base_stage = 'http://127.0.0.1:8000'\n",
    "url_base_production = 'https://cc66xdhuzgl3kixkuusv7ap2qi0xaxhj.lambda-url.sa-east-1.on.aws'"
   ]
  },
  {
   "attachments": {},
   "cell_type": "markdown",
   "metadata": {},
   "source": [
    "# **Testing Performance**"
   ]
  },
  {
   "attachments": {},
   "cell_type": "markdown",
   "metadata": {},
   "source": [
    "### Staging"
   ]
  },
  {
   "cell_type": "code",
   "execution_count": 48,
   "metadata": {},
   "outputs": [],
   "source": [
    "def get_testing_body(path: str = './app/datasets/batch_records.json'):\n",
    "    with open(path) as f:\n",
    "        body = json.load(f)\n",
    "\n",
    "    return body"
   ]
  },
  {
   "cell_type": "code",
   "execution_count": 49,
   "metadata": {},
   "outputs": [],
   "source": [
    "url_performance_stage = url_base_stage + '/v1/performance'\n",
    "    \n",
    "body = get_testing_body()\n",
    "response = requests.post(url_performance_stage, json=body, headers=headers)"
   ]
  },
  {
   "cell_type": "code",
   "execution_count": 50,
   "metadata": {},
   "outputs": [
    {
     "data": {
      "text/plain": [
       "{'volumetry': {'2017-03': 62,\n",
       "  '2017-08': 72,\n",
       "  '2017-01': 58,\n",
       "  '2017-04': 49,\n",
       "  '2017-06': 63,\n",
       "  '2017-07': 74,\n",
       "  '2017-05': 67,\n",
       "  '2017-02': 55},\n",
       " 'auc_roc': 0.5751748251748252}"
      ]
     },
     "execution_count": 50,
     "metadata": {},
     "output_type": "execute_result"
    }
   ],
   "source": [
    "response.json()"
   ]
  },
  {
   "attachments": {},
   "cell_type": "markdown",
   "metadata": {},
   "source": [
    "### Production"
   ]
  },
  {
   "cell_type": "code",
   "execution_count": 51,
   "metadata": {},
   "outputs": [],
   "source": [
    "url_performance_production = url_base_production + '/v1/performance'\n",
    "    \n",
    "body = get_testing_body()\n",
    "response = requests.post(url_performance_production, json=body, headers=headers)"
   ]
  },
  {
   "cell_type": "code",
   "execution_count": 52,
   "metadata": {},
   "outputs": [
    {
     "data": {
      "text/plain": [
       "{'volumetry': {'2017-03': 62,\n",
       "  '2017-08': 72,\n",
       "  '2017-01': 58,\n",
       "  '2017-04': 49,\n",
       "  '2017-06': 63,\n",
       "  '2017-07': 74,\n",
       "  '2017-05': 67,\n",
       "  '2017-02': 55},\n",
       " 'auc_roc': 0.5751748251748252}"
      ]
     },
     "execution_count": 52,
     "metadata": {},
     "output_type": "execute_result"
    }
   ],
   "source": [
    "response.json()"
   ]
  },
  {
   "attachments": {},
   "cell_type": "markdown",
   "metadata": {},
   "source": [
    "# **Testing Aderencia**"
   ]
  },
  {
   "attachments": {},
   "cell_type": "markdown",
   "metadata": {},
   "source": [
    "### Staging"
   ]
  },
  {
   "cell_type": "code",
   "execution_count": 53,
   "metadata": {},
   "outputs": [],
   "source": [
    "url_aderencia_stage = url_base_stage + '/v1/aderencia'\n",
    "body = {'path': './../app/datasets/credit_01/train.gz'}\n",
    "\n",
    "response = requests.post(url_aderencia_stage, json=body, headers=headers)"
   ]
  },
  {
   "cell_type": "code",
   "execution_count": 54,
   "metadata": {},
   "outputs": [
    {
     "data": {
      "text/plain": [
       "{'ks_test': {'ks_statistic': 0.002759858953621075,\n",
       "  'p_value': 0.9605978662359891},\n",
       " 'js_divergence': 0.0034236105465498376}"
      ]
     },
     "execution_count": 54,
     "metadata": {},
     "output_type": "execute_result"
    }
   ],
   "source": [
    "response.json()"
   ]
  },
  {
   "attachments": {},
   "cell_type": "markdown",
   "metadata": {},
   "source": [
    "### Production"
   ]
  },
  {
   "cell_type": "code",
   "execution_count": 57,
   "metadata": {},
   "outputs": [],
   "source": [
    "url_aderencia_production = url_base_production + '/v1/aderencia'\n",
    "body = {'path': './datasets/credit_01/train.gz'}\n",
    "\n",
    "response = requests.post(url_aderencia_production, json=body, headers=headers, timeout=500)"
   ]
  },
  {
   "cell_type": "code",
   "execution_count": 58,
   "metadata": {},
   "outputs": [
    {
     "data": {
      "text/plain": [
       "{'ks_test': {'ks_statistic': 0.002759858953621075,\n",
       "  'p_value': 0.9605978662359891},\n",
       " 'js_divergence': 0.0034236105465498376}"
      ]
     },
     "execution_count": 58,
     "metadata": {},
     "output_type": "execute_result"
    }
   ],
   "source": [
    "response.json()"
   ]
  }
 ],
 "metadata": {
  "kernelspec": {
   "display_name": "base",
   "language": "python",
   "name": "python3"
  },
  "language_info": {
   "codemirror_mode": {
    "name": "ipython",
    "version": 3
   },
   "file_extension": ".py",
   "mimetype": "text/x-python",
   "name": "python",
   "nbconvert_exporter": "python",
   "pygments_lexer": "ipython3",
   "version": "3.8.16"
  },
  "orig_nbformat": 4,
  "vscode": {
   "interpreter": {
    "hash": "d3c200d6a13644ebf9c9d65b10e2813a095c194238b43ad2d4b47adc181ee041"
   }
  }
 },
 "nbformat": 4,
 "nbformat_minor": 2
}
